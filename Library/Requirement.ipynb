{
 "cells": [
  {
   "cell_type": "markdown",
   "metadata": {},
   "source": [
    "# 🤔 Requirement 탐색하기\n",
    "\n",
    "애자일 소다 프로젝트를 진행하기 위해\n",
    "사전 학습해야 할 라이브러리가 있었다.\n",
    "\n",
    "그 라이브러리들은 다음과 같다.\n",
    "\n",
    "1. torch\n",
    "2. torchvision\n",
    "3. numpy\n",
    "4. pandas\n",
    "5. pyglet\n",
    "6. matplotlib\n",
    "7. pyvirtualdisplay\n",
    "8. imageio\n",
    "9. opencv-python\n",
    "\n",
    "모든 라이브러리를 훑어보기에는  \n",
    "시간 상 어려울 것 같다고 판단했다.\n",
    "\n",
    "때문에 가장 한번도 이용해보지 않은  \n",
    "라이브러리 중심으로 간단한 예제코드를  \n",
    "직접 실습해보기로 했다.\n",
    "\n",
    "1. torchvision\n",
    "2. pyglet\n",
    "3. pyvirtualdisplay\n",
    "4. imageio\n",
    "\n",
    "## 1. torchvision\n",
    "\n",
    "Torchvision은  \n",
    "데이터 셋, 아키텍처 모델, 이미지 변환 기능으로 구성되어 있는 패키지이다.\n",
    "\n",
    "쉽게 말해,\n",
    "데이터셋은 다양한 테스트 데이터셋을 불러올 수 있다.\n",
    "\n",
    "- Mnist\n",
    "- Fashion-Mnist\n",
    "- VOC ...\n",
    "\n",
    "우리는 데이터셋을 쓸 필요가 없으니 패스.\n",
    "\n",
    "아키텍쳐 모델은 이미 구현되어 있는 딥러닝 모델을  \n",
    "불러와 사용할 수 있다.\n",
    "\n",
    "- Alexnet\n",
    "- VGG\n",
    "- ResNet\n",
    "- GoogLenet\n",
    "\n",
    "우리의 학습에 따로 필요하진 않을 것 같다.\n",
    "\n",
    "이미지 변환 기능은 다음과 같다.\n",
    "효율적으로 이미지 변환이 가능하다.\n",
    "\n",
    "- Transforms on PIL Image\n",
    "- Transforms on torch.*Tensor\n",
    "- Conversion Transforms\n",
    "- Generic Transforms\n",
    "- Functional Transforms\n",
    "\n",
    "`torchvision.transforms`가 제공해주는 이미지 변환 기능은 아래 ↓ 와 같다.\n",
    "\n",
    "torchvision.transforms.ToTensor() : 이미지 데이터 세트를 Tensor로 변환  \n",
    "torchvision.transforms.Normalize(mean, std, inplace=False) : 사용중인 데이터 세트의 픽셀 값을 정규화 Tensor에만 적용 가능!  \n",
    "torchvision.transforms.Resize(size, interpolation=2) : 이미지를 지정한 크기로 변환한다.  \n",
    "torchvision.transforms.CenterCrop(size) : 이미지의 중앙 부분을 크롭하여 [size, size]크기로 만든다.  \n",
    "torchvision.transforms.Compose( [ ] ) : 여러 transform 함수들을 Compose로 하나의 함수로 구성가능  \n",
    "\n",
    "## 2. pyglet\n",
    "게임을 만드는 라이브러리로 유명하다.\n",
    "순수 파이썬으로만 만든 pygame 이라고 생각하면 된다.\n",
    "\n",
    "- OpenGL 과 연동\n",
    "- 멀티플랫폼 지원\n",
    "\n",
    "[튜토리얼 사이트](https://www.codetd.com/ko/article/10024694)  \n",
    "[튜토리얼2](https://minwook-shin.github.io/python-windowing-and-multimedia-library-using-pyglet/)\n",
    "!pip install pyglet\n",
    "로 설치한다.\n",
    "\n",
    "\n"
   ]
  },
  {
   "cell_type": "code",
   "execution_count": null,
   "metadata": {},
   "outputs": [],
   "source": [
    "import pyglet\n",
    "\n",
    "window = pyglet.window.Window(800,600,'성민') #가로 세로 사이즈, 이름\n",
    "label = pyglet.text.Label('Hello, world', \n",
    "                          font_name='Times New Roman', \n",
    "                          font_size=36,\n",
    "                          x=window.width//2, y=window.height//2,\n",
    "                          anchor_x='center', anchor_y='center')\n",
    "\n",
    "\n",
    "@window.event\n",
    "def on_draw():\n",
    "    window.clear()\n",
    "    label.draw()\n",
    "\n",
    "\n",
    "pyglet.app.run()"
   ]
  },
  {
   "cell_type": "markdown",
   "metadata": {},
   "source": [
    "## 3. pyvirtualdisplay\n",
    "\n",
    "코랩에서 OpenAI GYM 의 코드를 돌리기 위해 필요한 라이브러리 였다.\n",
    "\n",
    "Gym 코드를 돌릴 때 무조건적으로  \n",
    "`render()` 를 사용하는데, 이걸 구동하기 위해선  \n",
    "원래는 pygame 이라는 라이브러리를 사용하게 된다.  \n",
    "\n",
    "근데 colab 에서는 사용이 불가능하고, 이를 대체하기 위해서 \n",
    "`pyvirtualdisplay` 라이브러리를 사용한다.\n",
    "\n",
    "\n",
    "\n",
    "\n"
   ]
  },
  {
   "cell_type": "code",
   "execution_count": null,
   "metadata": {},
   "outputs": [],
   "source": [
    "!apt-get install -y xvfb x11-utils"
   ]
  },
  {
   "cell_type": "code",
   "execution_count": 12,
   "metadata": {},
   "outputs": [
    {
     "name": "stdout",
     "output_type": "stream",
     "text": [
      "Collecting gym[all]==0.17.*\n",
      "  Using cached gym-0.17.3.tar.gz (1.6 MB)\n",
      "  Preparing metadata (setup.py): started\n",
      "  Preparing metadata (setup.py): finished with status 'done'\n",
      "Collecting pyvirtualdisplay==0.2.*\n",
      "  Using cached PyVirtualDisplay-0.2.5-py2.py3-none-any.whl (13 kB)\n",
      "Requirement already satisfied: PyOpenGL==3.1.* in c:\\users\\82102\\appdata\\local\\programs\\python\\python310\\lib\\site-packages (3.1.6)\n",
      "Requirement already satisfied: PyOpenGL-accelerate==3.1.* in c:\\users\\82102\\appdata\\local\\programs\\python\\python310\\lib\\site-packages (3.1.6)\n",
      "Requirement already satisfied: scipy in c:\\users\\82102\\appdata\\local\\programs\\python\\python310\\lib\\site-packages (from gym[all]==0.17.*) (1.8.0)\n",
      "Requirement already satisfied: numpy>=1.10.4 in c:\\users\\82102\\appdata\\local\\programs\\python\\python310\\lib\\site-packages (from gym[all]==0.17.*) (1.22.0)\n",
      "Requirement already satisfied: pyglet<=1.5.0,>=1.4.0 in c:\\users\\82102\\appdata\\local\\programs\\python\\python310\\lib\\site-packages (from gym[all]==0.17.*) (1.5.0)\n",
      "Requirement already satisfied: cloudpickle<1.7.0,>=1.2.0 in c:\\users\\82102\\appdata\\local\\programs\\python\\python310\\lib\\site-packages (from gym[all]==0.17.*) (1.6.0)\n",
      "Collecting atari_py~=0.2.0\n",
      "  Using cached atari-py-0.2.9.tar.gz (540 kB)\n",
      "  Preparing metadata (setup.py): started\n",
      "  Preparing metadata (setup.py): finished with status 'done'\n",
      "Requirement already satisfied: Pillow in c:\\users\\82102\\appdata\\local\\programs\\python\\python310\\lib\\site-packages (from gym[all]==0.17.*) (9.0.1)\n",
      "Requirement already satisfied: opencv-python in c:\\users\\82102\\appdata\\local\\programs\\python\\python310\\lib\\site-packages (from gym[all]==0.17.*) (4.5.5.64)\n",
      "Collecting box2d-py~=2.3.5\n",
      "  Using cached box2d-py-2.3.8.tar.gz (374 kB)\n",
      "  Preparing metadata (setup.py): started\n",
      "  Preparing metadata (setup.py): finished with status 'done'\n",
      "Collecting mujoco_py<2.0,>=1.50\n",
      "  Using cached mujoco-py-1.50.1.68.tar.gz (120 kB)\n",
      "  Preparing metadata (setup.py): started\n",
      "  Preparing metadata (setup.py): finished with status 'done'\n",
      "Requirement already satisfied: imageio in c:\\users\\82102\\appdata\\local\\programs\\python\\python310\\lib\\site-packages (from gym[all]==0.17.*) (2.19.1)\n",
      "Requirement already satisfied: EasyProcess in c:\\users\\82102\\appdata\\local\\programs\\python\\python310\\lib\\site-packages (from pyvirtualdisplay==0.2.*) (1.1)\n",
      "Requirement already satisfied: six in c:\\users\\82102\\appdata\\local\\programs\\python\\python310\\lib\\site-packages (from atari_py~=0.2.0->gym[all]==0.17.*) (1.16.0)\n",
      "Requirement already satisfied: glfw>=1.4.0 in c:\\users\\82102\\appdata\\local\\programs\\python\\python310\\lib\\site-packages (from mujoco_py<2.0,>=1.50->gym[all]==0.17.*) (2.5.3)\n",
      "Requirement already satisfied: Cython>=0.27.2 in c:\\users\\82102\\appdata\\local\\programs\\python\\python310\\lib\\site-packages (from mujoco_py<2.0,>=1.50->gym[all]==0.17.*) (0.29.28)\n",
      "Requirement already satisfied: cffi>=1.10 in c:\\users\\82102\\appdata\\local\\programs\\python\\python310\\lib\\site-packages (from mujoco_py<2.0,>=1.50->gym[all]==0.17.*) (1.15.0)\n",
      "Requirement already satisfied: lockfile>=0.12.2 in c:\\users\\82102\\appdata\\local\\programs\\python\\python310\\lib\\site-packages (from mujoco_py<2.0,>=1.50->gym[all]==0.17.*) (0.12.2)\n",
      "Requirement already satisfied: future in c:\\users\\82102\\appdata\\local\\programs\\python\\python310\\lib\\site-packages (from pyglet<=1.5.0,>=1.4.0->gym[all]==0.17.*) (0.18.2)\n",
      "Requirement already satisfied: pycparser in c:\\users\\82102\\appdata\\local\\programs\\python\\python310\\lib\\site-packages (from cffi>=1.10->mujoco_py<2.0,>=1.50->gym[all]==0.17.*) (2.21)\n",
      "Using legacy 'setup.py install' for atari_py, since package 'wheel' is not installed.\n",
      "Using legacy 'setup.py install' for box2d-py, since package 'wheel' is not installed.\n",
      "Using legacy 'setup.py install' for mujoco_py, since package 'wheel' is not installed.\n",
      "Using legacy 'setup.py install' for gym, since package 'wheel' is not installed.\n",
      "Installing collected packages: box2d-py, pyvirtualdisplay, atari_py, mujoco_py, gym\n",
      "  Running setup.py install for box2d-py: started\n",
      "  Running setup.py install for box2d-py: finished with status 'error'\n"
     ]
    },
    {
     "name": "stderr",
     "output_type": "stream",
     "text": [
      "  error: subprocess-exited-with-error\n",
      "  \n",
      "  × Running setup.py install for box2d-py did not run successfully.\n",
      "  │ exit code: 1\n",
      "  ╰─> [16 lines of output]\n",
      "      Using setuptools (version 58.1.0).\n",
      "      running install\n",
      "      running build\n",
      "      running build_py\n",
      "      creating build\n",
      "      creating build\\lib.win-amd64-3.10\n",
      "      creating build\\lib.win-amd64-3.10\\Box2D\n",
      "      copying library\\Box2D\\Box2D.py -> build\\lib.win-amd64-3.10\\Box2D\n",
      "      copying library\\Box2D\\__init__.py -> build\\lib.win-amd64-3.10\\Box2D\n",
      "      creating build\\lib.win-amd64-3.10\\Box2D\\b2\n",
      "      copying library\\Box2D\\b2\\__init__.py -> build\\lib.win-amd64-3.10\\Box2D\\b2\n",
      "      running build_ext\n",
      "      building 'Box2D._Box2D' extension\n",
      "      swigging Box2D\\Box2D.i to Box2D\\Box2D_wrap.cpp\n",
      "      swig.exe -python -c++ -IBox2D -small -O -includeall -ignoremissing -w201 -globals b2Globals -outdir library\\Box2D -keyword -w511 -D_SWIG_KWARGS -o Box2D\\Box2D_wrap.cpp Box2D\\Box2D.i\n",
      "      error: command 'swig.exe' failed: None\n",
      "      [end of output]\n",
      "  \n",
      "  note: This error originates from a subprocess, and is likely not a problem with pip.\n",
      "error: legacy-install-failure\n",
      "\n",
      "× Encountered error while trying to install package.\n",
      "╰─> box2d-py\n",
      "\n",
      "note: This is an issue with the package mentioned above, not pip.\n",
      "hint: See above for output from the failure.\n"
     ]
    }
   ],
   "source": [
    "!pip install gym[all]==0.17.* pyvirtualdisplay==0.2.* PyOpenGL==3.1.* PyOpenGL-accelerate==3.1.*"
   ]
  },
  {
   "cell_type": "markdown",
   "metadata": {},
   "source": [
    "처음에는 mujoco 가 깔려있지 않다고 에러가 나올 것이다.  \n",
    "그렇다면 [해당링크](https://github.com/deepmind/mujoco/releases)  \n",
    "에서 본인 운영체제에 맞는 mujoco 를 다운로드 받는다.  \n",
    "\n",
    "그다음 본인 계정 하위폴더에 .mujoco 라는 폴더를 만들고 집어넣으면 된다.\n",
    "\n",
    "되도록 경로에는 한글이 없도록 한다. 이어서 아래 링크에 따라 진행 후\n",
    "\n",
    "[설명 링크](https://seunghyun-lee.tistory.com/2)\n",
    "\n",
    "다시 pip install pyvirtualdisplay 를 실행하면 된다.\n"
   ]
  },
  {
   "cell_type": "code",
   "execution_count": 14,
   "metadata": {},
   "outputs": [
    {
     "name": "stdout",
     "output_type": "stream",
     "text": [
      "Collecting pyvirtualdisplay\n",
      "  Downloading PyVirtualDisplay-3.0-py3-none-any.whl (15 kB)\n",
      "Installing collected packages: pyvirtualdisplay\n",
      "Successfully installed pyvirtualdisplay-3.0\n"
     ]
    }
   ],
   "source": [
    "!pip install pyvirtualdisplay"
   ]
  },
  {
   "cell_type": "code",
   "execution_count": 9,
   "metadata": {},
   "outputs": [
    {
     "name": "stdout",
     "output_type": "stream",
     "text": [
      "Requirement already satisfied: mujoco_py in c:\\users\\82102\\appdata\\local\\programs\\python\\python310\\lib\\site-packages (2.1.2.14)\n",
      "Requirement already satisfied: numpy>=1.11 in c:\\users\\82102\\appdata\\local\\programs\\python\\python310\\lib\\site-packages (from mujoco_py) (1.22.0)\n",
      "Requirement already satisfied: cffi>=1.10 in c:\\users\\82102\\appdata\\local\\programs\\python\\python310\\lib\\site-packages (from mujoco_py) (1.15.0)\n",
      "Requirement already satisfied: Cython>=0.27.2 in c:\\users\\82102\\appdata\\local\\programs\\python\\python310\\lib\\site-packages (from mujoco_py) (0.29.28)\n",
      "Requirement already satisfied: fasteners~=0.15 in c:\\users\\82102\\appdata\\local\\programs\\python\\python310\\lib\\site-packages (from mujoco_py) (0.17.3)\n",
      "Requirement already satisfied: imageio>=2.1.2 in c:\\users\\82102\\appdata\\local\\programs\\python\\python310\\lib\\site-packages (from mujoco_py) (2.19.1)\n",
      "Requirement already satisfied: glfw>=1.4.0 in c:\\users\\82102\\appdata\\local\\programs\\python\\python310\\lib\\site-packages (from mujoco_py) (2.5.3)\n",
      "Requirement already satisfied: pycparser in c:\\users\\82102\\appdata\\local\\programs\\python\\python310\\lib\\site-packages (from cffi>=1.10->mujoco_py) (2.21)\n",
      "Requirement already satisfied: pillow>=8.3.2 in c:\\users\\82102\\appdata\\local\\programs\\python\\python310\\lib\\site-packages (from imageio>=2.1.2->mujoco_py) (9.0.1)\n"
     ]
    }
   ],
   "source": [
    "!pip install mujoco_py"
   ]
  },
  {
   "cell_type": "code",
   "execution_count": 15,
   "metadata": {},
   "outputs": [],
   "source": [
    "from pyvirtualdisplay import Display\n",
    "import matplotlib.pyplot as plt\n",
    "import random\n",
    "import gym"
   ]
  },
  {
   "cell_type": "markdown",
   "metadata": {},
   "source": [
    "## 4. imageio\n",
    "\n",
    "imageIO 는 openCV 처럼 이미지를 처리하는 라이브러리이다."
   ]
  },
  {
   "cell_type": "markdown",
   "metadata": {},
   "source": []
  }
 ],
 "metadata": {
  "interpreter": {
   "hash": "acf61029c60ecddcf4c5fb8e9e05647c40915d4fd9295be9f6d34ee655fa00f2"
  },
  "kernelspec": {
   "display_name": "Python 3.10.1 64-bit",
   "language": "python",
   "name": "python3"
  },
  "language_info": {
   "codemirror_mode": {
    "name": "ipython",
    "version": 3
   },
   "file_extension": ".py",
   "mimetype": "text/x-python",
   "name": "python",
   "nbconvert_exporter": "python",
   "pygments_lexer": "ipython3",
   "version": "3.10.1"
  },
  "orig_nbformat": 4
 },
 "nbformat": 4,
 "nbformat_minor": 2
}
