{
 "cells": [
  {
   "cell_type": "markdown",
   "id": "8fe7344c",
   "metadata": {},
   "source": [
    "# 1. Simulation"
   ]
  },
  {
   "cell_type": "code",
   "execution_count": 1,
   "id": "b02b2de2",
   "metadata": {},
   "outputs": [
    {
     "name": "stdout",
     "output_type": "stream",
     "text": [
      "reward: -0.01 -0.2 2\n"
     ]
    }
   ],
   "source": [
    "from string import ascii_uppercase\n",
    "from draw_utils import *\n",
    "from pyglet.gl import *\n",
    "import numpy as np\n",
    "import pandas as pd\n",
    "import os\n",
    "\n",
    "\n",
    "\n",
    "# reward\n",
    "move_reward = -0.01\n",
    "obs_reward = -0.2\n",
    "goal_reward = 2\n",
    "print('reward:' , move_reward, obs_reward, goal_reward)\n",
    "\n",
    "local_path = '/home/zlxlekta924/YC' #os.path.abspath(os.path.join(os.path.dirname(__file__)))\n",
    "\n",
    "\n",
    "class Simulator:\n",
    "    def __init__(self):\n",
    "        '''\n",
    "        height : 그리드 높이\n",
    "        width : 그리드 너비 \n",
    "        inds : A ~ Q alphabet list\n",
    "        '''\n",
    "        # Load train data\n",
    "        self.files = pd.read_csv(os.path.join(local_path, \"./data/factory_order_train.csv\"))\n",
    "        self.height = 10\n",
    "        self.width = 9\n",
    "        self.inds = list(ascii_uppercase)[:17]\n",
    "        self.clear_item = False\n",
    "\n",
    "    def set_box(self):\n",
    "        '''\n",
    "        아이템들이 있을 위치를 미리 정해놓고 그 위치 좌표들에 아이템이 들어올 수 있으므로 그리드에 100으로 표시한다.\n",
    "        데이터 파일에서 이번 에피소드 아이템 정보를 받아 가져와야 할 아이템이 있는 좌표만 -100으로 표시한다.\n",
    "        self.local_target에 에이전트가 이번에 방문해야할 좌표들을 저장한다.\n",
    "        따라서 가져와야하는 아이템 좌표와 end point 좌표(처음 시작했던 좌표로 돌아와야하므로)가 들어가게 된다.\n",
    "        '''\n",
    "        box_data = pd.read_csv(os.path.join(local_path, \"./data/box.csv\"))\n",
    "\n",
    "        # 물건이 들어있을 수 있는 경우\n",
    "        for box in box_data.itertuples(index = True, name ='Pandas'):\n",
    "            self.grid[getattr(box, \"row\")][getattr(box, \"col\")] = 0     #####################수정 100 -> 0\n",
    "\n",
    "        # 물건이 실제 들어있는 경우\n",
    "        order_item = list(set(self.inds) & set(self.items))\n",
    "        order_csv = box_data[box_data['item'].isin(order_item)]\n",
    "    \n",
    "        #print(order_csv) ######################################## 수정\n",
    "        \n",
    "        for order_box in order_csv.itertuples(index = True, name ='Pandas'):\n",
    "            self.grid[getattr(order_box, \"row\")][getattr(order_box, \"col\")] = -100   ###################### 수정 -100 -> 0\n",
    "            # local target에 가야 할 위치 좌표 넣기\n",
    "            self.local_target.append(\n",
    "                [getattr(order_box, \"row\"),\n",
    "                 getattr(order_box, \"col\")]\n",
    "                )\n",
    "        self.local_target.append([9,4]) \n",
    "#         self.grid[self.local_target[0][0]][self.local_target[0][1]] = -100 #############################수정\n",
    "        # 알파벳을 Grid에 넣어서 -> grid에 2Dconv 적용 가능\n",
    "\n",
    "    def set_obstacle(self):\n",
    "        '''\n",
    "        장애물이 있어야하는 위치는 미리 obstacles.csv에 정의되어 있다. 이 좌표들을 0으로 표시한다.\n",
    "        '''\n",
    "        obstacles_data = pd.read_csv(os.path.join(local_path, \"./data/obstacles.csv\"))\n",
    "        for obstacle in obstacles_data.itertuples(index = True, name ='Pandas'):\n",
    "            self.grid[getattr(obstacle, \"row\")][getattr(obstacle, \"col\")] = 0\n",
    "\n",
    "    def reset(self, epi):\n",
    "        '''\n",
    "        reset()은 첫 스텝에서 사용되며 그리드에서 에이전트 위치가 start point에 있게 한다.\n",
    "\n",
    "        :param epi: episode, 에피소드 마다 가져와야 할 아이템 리스트를 불러올 때 사용\n",
    "        :return: 초기셋팅 된 그리드\n",
    "        :rtype: numpy.ndarray\n",
    "        _____________________________________________________________________________________\n",
    "        items : 이번 에피소드에서 가져와야하는 아이템들\n",
    "        terminal_location : 현재 에이전트가 찾아가야하는 목적지\n",
    "        local_target : 한 에피소드에서 찾아가야하는 아이템 좌표, 마지막 엔드 포인트 등의 위치좌표들\n",
    "        actions: visualization을 위해 에이전트 action을 저장하는 리스트\n",
    "        curloc : 현재 위치\n",
    "        '''\n",
    "\n",
    "        # initial episode parameter setting\n",
    "        self.epi = epi\n",
    "        self.items = list(self.files.iloc[self.epi])[0]\n",
    "        self.cumulative_reward = 0\n",
    "        self.terminal_location = None\n",
    "        self.local_target = []\n",
    "        self.actions = []\n",
    "\n",
    "\n",
    "        # initial grid setting\n",
    "        self.grid = np.ones((self.height, self.width), dtype=\"float16\")\n",
    "\n",
    "        # set information about the gridworld\n",
    "        self.set_box()\n",
    "        self.set_obstacle()\n",
    "\n",
    "        # start point를 grid에 표시\n",
    "        self.curloc = [9, 4]\n",
    "        self.grid[int(self.curloc[0])][int(self.curloc[1])] = -5\n",
    "\n",
    "\n",
    "        self.done = False\n",
    "        \n",
    "        #print('###########################')  ###################################수정한 부분\n",
    "        #print(f'items loc : {self.local_target}')\n",
    "        \n",
    "        \n",
    "        return self.grid\n",
    "\n",
    "    def apply_action(self, action, cur_x, cur_y):\n",
    "        '''\n",
    "        에이전트가 행한 action대로 현 에이전트의 위치좌표를 바꾼다.\n",
    "        action은 discrete하며 4가지 up,down,left,right으로 정의된다.\n",
    "        \n",
    "        :param x: 에이전트의 현재 x 좌표\n",
    "        :param y: 에이전트의 현재 y 좌표\n",
    "        :return: action에 따라 변한 에이전트의 x 좌표, y 좌표\n",
    "        :rtype: int, int\n",
    "        '''\n",
    "        new_x = cur_x\n",
    "        new_y = cur_y\n",
    "        # up\n",
    "        if action == 0:\n",
    "            new_x = cur_x - 1\n",
    "        # down\n",
    "        elif action == 1:\n",
    "            new_x = cur_x + 1\n",
    "        # left\n",
    "        elif action == 2:\n",
    "            new_y = cur_y - 1\n",
    "        # right\n",
    "        else:\n",
    "            new_y = cur_y + 1\n",
    "\n",
    "        return int(new_x), int(new_y)\n",
    "\n",
    "\n",
    "    def get_reward(self, new_x, new_y, out_of_boundary):\n",
    "        '''\n",
    "        get_reward함수는 리워드를 계산하는 함수이며, 상황에 따라 에이전트가 action을 옳게 했는지 판단하는 지표가 된다.\n",
    "\n",
    "        :param new_x: action에 따른 에이전트 새로운 위치좌표 x\n",
    "        :param new_y: action에 따른 에이전트 새로운 위치좌표 y\n",
    "        :param out_of_boundary: 에이전트 위치가 그리드 밖이 되지 않도록 제한\n",
    "        :return: action에 따른 리워드\n",
    "        :rtype: float\n",
    "        '''\n",
    "\n",
    "        # 바깥으로 나가는 경우\n",
    "        if any(out_of_boundary):\n",
    "            reward = obs_reward\n",
    "                       \n",
    "        else:\n",
    "            # 장애물에 부딪히는 경우 \n",
    "            if self.grid[new_x][new_y] == 0:\n",
    "                reward = obs_reward  \n",
    "\n",
    "            # 현재 목표에 도달한 경우\n",
    "            elif new_x == self.terminal_location[0] and new_y == self.terminal_location[1]:\n",
    "                reward = goal_reward\n",
    "\n",
    "            # 그냥 움직이는 경우 \n",
    "            else:\n",
    "                reward = move_reward\n",
    "\n",
    "        return reward\n",
    "\n",
    "    def step(self, action):\n",
    "        ''' \n",
    "        에이전트의 action에 따라 step을 진행한다.\n",
    "        action에 따라 에이전트 위치를 변환하고, action에 대해 리워드를 받고, 어느 상황에 에피소드가 종료되어야 하는지 등을 판단한다.\n",
    "        에이전트가 endpoint에 도착하면 gif로 에피소드에서 에이전트의 행동이 저장된다.\n",
    "\n",
    "        :param action: 에이전트 행동\n",
    "        :return:\n",
    "            grid, 그리드\n",
    "            reward, 리워드\n",
    "            cumulative_reward, 누적 리워드\n",
    "            done, 종료 여부\n",
    "            goal_ob_reward, goal까지 아이템을 모두 가지고 돌아오는 finish율 계산을 위한 파라미터\n",
    "\n",
    "        :rtype: numpy.ndarray, float, float, bool, bool/str\n",
    "\n",
    "        (Hint : 시작 위치 (9,4)에서 up말고 다른 action은 전부 장애물이므로 action을 고정하는 것이 좋음)\n",
    "        '''\n",
    "        if self.local_target:\n",
    "            self.terminal_location = self.local_target[0]\n",
    "            \n",
    "        cur_x,cur_y = self.curloc\n",
    "        self.actions.append((cur_x, cur_y))\n",
    "\n",
    "        goal_ob_reward = False\n",
    "        \n",
    "        new_x, new_y = self.apply_action(action, cur_x, cur_y)\n",
    "\n",
    "        out_of_boundary = [new_x < 0, new_x >= self.height, new_y < 0, new_y >= self.width]\n",
    "\n",
    "        # 바깥으로 나가는 경우 종료\n",
    "        if any(out_of_boundary):\n",
    "            reward = self.get_reward(new_x, new_y, out_of_boundary) ######################수정\n",
    "            self.done = True\n",
    "            goal_ob_reward = True\n",
    "            \n",
    "        else:\n",
    "            # 장애물에 부딪히는 경우 종료\n",
    "            if self.grid[new_x][new_y] == 0:\n",
    "                self.done = True\n",
    "                goal_ob_reward = True\n",
    "                reward = self.get_reward(new_x, new_y, out_of_boundary) ###############################수정\n",
    "\n",
    "            # 현재 목표에 도달한 경우, 다음 목표설정\n",
    "            elif new_x == self.terminal_location[0] and new_y == self.terminal_location[1]:\n",
    "\n",
    "\n",
    "                # end point 일 때\n",
    "                if [new_x, new_y] == [9,4]:\n",
    "                    self.done = True\n",
    "                \n",
    "                # item 일 때\n",
    "#                 self.clear_item = True\n",
    "                \n",
    "                self.local_target.remove(self.local_target[0])\n",
    "                \n",
    "#                 if self.local_target:\n",
    "#                     self.grid[self.local_target[0][0]][self.local_target[0][1]] = -100 ######### 수정 가야할 곳은 -100 으로 표시\n",
    "                \n",
    "                self.grid[cur_x][cur_y] = 1\n",
    "                self.grid[new_x][new_y] = -5\n",
    "                goal_ob_reward = True\n",
    "                self.curloc = [new_x, new_y]\n",
    "                \n",
    "                reward = self.get_reward(new_x, new_y, out_of_boundary)\n",
    "            else:\n",
    "                # 그냥 움직이는 경우 \n",
    "                \n",
    "                self.grid[cur_x][cur_y] = 1    \n",
    "                self.grid[new_x][new_y] = -5\n",
    "                    \n",
    "                \n",
    "                self.curloc = [new_x,new_y]\n",
    "                \n",
    "                reward = self.get_reward(new_x, new_y, out_of_boundary)\n",
    "                \n",
    "        #reward = self.get_reward(new_x, new_y, out_of_boundary)  ################################# 수정\n",
    "        #print('reward : ' ,reward) ####################################수정한 부분\n",
    "        \n",
    "        self.cumulative_reward += reward\n",
    "\n",
    "        if self.done == True:\n",
    "            if [new_x, new_y] == [9, 4]:\n",
    "                if self.terminal_location == [9, 4]:\n",
    "                    # 완료되면 GIFS 저장\n",
    "                    goal_ob_reward = 'finish'\n",
    "                    height = 10\n",
    "                    width = 9 \n",
    "                    display = Display(visible=False, size=(width, height))\n",
    "                    display.start()\n",
    "\n",
    "                    start_point = (9, 4)\n",
    "                    unit = 50\n",
    "                    screen_height = height * unit\n",
    "                    screen_width = width * unit\n",
    "                    log_path = \"./logs\"\n",
    "                    data_path = \"./data\"\n",
    "                    render_cls = Render(screen_width, screen_height, unit, start_point, data_path, log_path)\n",
    "                    for idx, new_pos in enumerate(self.actions):\n",
    "                        render_cls.update_movement(new_pos, idx+1)\n",
    "                    \n",
    "                    render_cls.save_gif(self.epi)\n",
    "                    render_cls.viewer.close()\n",
    "                    display.stop()\n",
    "        \n",
    "        \n",
    "        return self.grid, reward, self.cumulative_reward, self.done, goal_ob_reward\n"
   ]
  },
  {
   "cell_type": "markdown",
   "id": "54a3245a",
   "metadata": {},
   "source": [
    "## 1. Agent 구성\n",
    "\n",
    "Agent 구성에 필요한 요소\n",
    "\n",
    "1. Replay Buffer\n",
    "2. Qnet"
   ]
  },
  {
   "cell_type": "code",
   "execution_count": 2,
   "id": "df27b766",
   "metadata": {},
   "outputs": [
    {
     "name": "stderr",
     "output_type": "stream",
     "text": [
      "/home/zlxlekta924/anaconda3/envs/test/lib/python3.7/site-packages/tqdm/auto.py:22: TqdmWarning: IProgress not found. Please update jupyter and ipywidgets. See https://ipywidgets.readthedocs.io/en/stable/user_install.html\n",
      "  from .autonotebook import tqdm as notebook_tqdm\n"
     ]
    }
   ],
   "source": [
    "import torch\n",
    "import torch.nn as nn\n",
    "import torch.nn.functional as F\n",
    "import torch.optim as optim\n",
    "from torch.distributions import Categorical\n",
    "import numpy as np\n",
    "import time\n",
    "from tqdm import tqdm\n",
    "#Hyperparameters\n",
    "learning_rate = 0.0005\n",
    "gamma         = 0.98\n",
    "n_rollout     = 200\n"
   ]
  },
  {
   "cell_type": "code",
   "execution_count": 3,
   "id": "810439cc",
   "metadata": {},
   "outputs": [],
   "source": [
    "\n",
    "class ActorCritic(nn.Module):\n",
    "    def __init__(self):\n",
    "        super(ActorCritic, self).__init__()\n",
    "        self.data = []\n",
    "        \n",
    "        self.layer1 = nn.Sequential(\n",
    "            nn.Conv2d(in_channels=1, out_channels=32, kernel_size=3, stride=1, padding=1),\n",
    "            nn.ReLU(),\n",
    "            nn.MaxPool2d(kernel_size=2))\n",
    "        \n",
    "        self.layer2 = nn.Sequential(\n",
    "            nn.Conv2d(32, 64, kernel_size=3, stride=1, padding=1),\n",
    "            nn.ReLU(),\n",
    "            nn.MaxPool2d(kernel_size=2))\n",
    "        \n",
    "        self.flatten = nn.Flatten()\n",
    "        self.fc1 = nn.Linear(256,128)\n",
    "        self.fc2 = nn.Linear(128,64)\n",
    "        self.fc_pi = nn.Linear(64,4)\n",
    "        self.fc_v = nn.Linear(64,1)\n",
    "        self.optimizer = optim.Adam(self.parameters(), lr=learning_rate)\n",
    "        \n",
    "    def pi(self, x, softmax_dim = 0):\n",
    "        x = torch.reshape(x, (-1, 1, 10, 9)).to('cuda')\n",
    "        x = self.layer1(x)\n",
    "        x = self.layer2(x)\n",
    "        x = self.flatten(x)\n",
    "        x = F.relu(self.fc1(x))\n",
    "        x = F.relu(self.fc2(x))\n",
    "        x = self.fc_pi(x)\n",
    "        prob = F.softmax(x, dim=softmax_dim) #, dim=softmax_dim\n",
    "        \n",
    "        return prob\n",
    "    \n",
    "    def v(self, x):\n",
    "        x = torch.reshape(x, (-1, 1, 10, 9)).to('cuda')\n",
    "        x = self.layer1(x)\n",
    "        x = self.layer2(x)\n",
    "        x = self.flatten(x)\n",
    "        x = F.relu(self.fc1(x))\n",
    "        x = F.relu(self.fc2(x))\n",
    "        v = self.fc_v(x)\n",
    "        return v\n",
    "    \n",
    "    def put_data(self, transition):\n",
    "        self.data.append(transition)\n",
    "        \n",
    "    def make_batch(self):\n",
    "        s_lst, a_lst, r_lst, s_prime_lst, done_lst = [], [], [], [], []\n",
    "        for transition in self.data:\n",
    "            s,a,r,s_prime,done = transition\n",
    "            s_lst.append(s)\n",
    "            a_lst.append([a])\n",
    "            r_lst.append([r])\n",
    "            s_prime_lst.append(s_prime)\n",
    "            done_mask = 0.0 if done else 1.0\n",
    "            done_lst.append([done_mask])\n",
    "        \n",
    "        s_batch, a_batch, r_batch, s_prime_batch, done_batch = torch.tensor(s_lst, dtype=torch.float), torch.tensor(a_lst), \\\n",
    "                                                               torch.tensor(r_lst, dtype=torch.float), torch.tensor(s_prime_lst, dtype=torch.float), \\\n",
    "                                                               torch.tensor(done_lst, dtype=torch.float)\n",
    "        self.data = []\n",
    "        return s_batch, a_batch, r_batch, s_prime_batch, done_batch\n",
    "  \n",
    "    def train_net(self):\n",
    "        s, a, r, s_prime, done = self.make_batch()\n",
    "        td_target = torch.tensor(r,device='cuda') + torch.tensor(gamma, device='cuda') * self.v(s_prime) * torch.tensor(done, device='cuda')\n",
    "        delta = td_target - self.v(s)\n",
    "        pi = self.pi(s, softmax_dim=1)\n",
    "        pi_a = pi.gather(1,a.to('cuda'))\n",
    "        loss = -(torch.log(pi_a)+1e9) * (delta.detach()+1e9) + F.smooth_l1_loss(self.v(s), td_target.detach())\n",
    "        \n",
    "        self.optimizer.zero_grad()\n",
    "        loss.mean().backward()\n",
    "        self.optimizer.step() \n",
    "        torch.autograd.set_detect_anomaly(True)"
   ]
  },
  {
   "cell_type": "markdown",
   "id": "10b33bac",
   "metadata": {},
   "source": [
    "#### 전체적인 구성"
   ]
  },
  {
   "cell_type": "code",
   "execution_count": 4,
   "id": "ffbb79aa",
   "metadata": {
    "scrolled": true
   },
   "outputs": [
    {
     "name": "stderr",
     "output_type": "stream",
     "text": [
      "  0%|                                                                     | 21/40000 [00:08<4:28:05,  2.49it/s]"
     ]
    },
    {
     "name": "stdout",
     "output_type": "stream",
     "text": [
      "# of episode :20, avg score : -0.6\n",
      "[[   0.    0.    0. -100.    0. -100.    0. -100.    0.]\n",
      " [   1.    1.    1.    1.    1.    1.    1.    1.    1.]\n",
      " [   0.    1.    1.    1.    1.    1.    1.    1.    0.]\n",
      " [   0.    1.    0.    1.    0.    1.    0.    1. -100.]\n",
      " [-100.    1.    0.    1.    0.    1.    0.    1. -100.]\n",
      " [-100.    1.    0.    1.    0.    1.    0.    1.    0.]\n",
      " [   1.    1.    0.    1.    0.    1.    0.    1.    1.]\n",
      " [   1.    1.    1.    1.    1.    1.    1.   -5.    1.]\n",
      " [   1.    1.    1.    1.    1.    1.    1.    1.    1.]\n",
      " [   0.    0.    0.    0.    1.    0.    0.    0.    0.]]\n"
     ]
    },
    {
     "name": "stderr",
     "output_type": "stream",
     "text": [
      "  0%|                                                                     | 41/40000 [00:16<4:33:10,  2.44it/s]"
     ]
    },
    {
     "name": "stdout",
     "output_type": "stream",
     "text": [
      "# of episode :40, avg score : -0.5\n",
      "[[   1.    0. -100.    0. -100. -100.    0. -100.    0.]\n",
      " [   1.    1.    1.    1.    1.    1.    1.    1.    1.]\n",
      " [   0.    1.    1.    1.    1.    1.    1.    1.    0.]\n",
      " [   1.    1.    0.    1.    0.    1.    0.    1. -100.]\n",
      " [   0.    1.    0.    1.    0.    1.    0.    1.    0.]\n",
      " [   0.    1.    0.    1.    0.    1.    0.    1.    0.]\n",
      " [   1.    1.    0.    1.    0.    1.    0.    1.    1.]\n",
      " [   1.    1.    1.    1.    1.    1.    1.    1.    1.]\n",
      " [   1.    1.    1.    1.    1.    1.    1.   -5.    1.]\n",
      " [   0.    0.    0.    0.    1.    0.    0.    0.    0.]]\n"
     ]
    },
    {
     "name": "stderr",
     "output_type": "stream",
     "text": [
      "  0%|                                                                     | 61/40000 [00:25<4:33:36,  2.43it/s]"
     ]
    },
    {
     "name": "stdout",
     "output_type": "stream",
     "text": [
      "# of episode :60, avg score : -0.5\n",
      "[[-100.    0.    0.    0.    0.    0.    0.    0. -100.]\n",
      " [   1.    1.    1.    1.    1.    1.    1.    1.    1.]\n",
      " [   0.    1.    1.    1.    1.    1.    1.    1.    0.]\n",
      " [   0.    1.    0.    1.    0.    1.    0.    1. -100.]\n",
      " [   0.    1.    0.    1.    0.   -5.    0.    1.    0.]\n",
      " [   0.    1.    0.    1.    0.    1.    0.    1.    0.]\n",
      " [   1.    1.    0.    1.    0.    1.    0.    1.    1.]\n",
      " [   1.    1.    1.    1.    1.    1.    1.    1.    1.]\n",
      " [   1.    1.    1.    1.    1.    1.    1.    1.    1.]\n",
      " [   0.    0.    0.    0.    1.    0.    0.    0.    0.]]\n"
     ]
    },
    {
     "name": "stderr",
     "output_type": "stream",
     "text": [
      "  0%|▏                                                                    | 81/40000 [00:33<4:30:27,  2.46it/s]"
     ]
    },
    {
     "name": "stdout",
     "output_type": "stream",
     "text": [
      "# of episode :80, avg score : -0.7\n",
      "[[   0. -100.    0. -100.    0.    0. -100.    0.    0.]\n",
      " [   1.    1.    1.    1.    1.    1.    1.    1.    1.]\n",
      " [   0.    1.    1.    1.    1.    1.    1.    1.    0.]\n",
      " [   0.    1.    0.    1.    0.    1.    0.    1.    0.]\n",
      " [   0.    1.    0.    1.    0.    1.    0.    1.    0.]\n",
      " [   0.    1.    0.    1.    0.    1.    0.    1.    0.]\n",
      " [   1.    1.    0.    1.    0.    1.    0.    1.   -5.]\n",
      " [   1.    1.    1.    1.    1.    1.    1.    1.    1.]\n",
      " [   1.    1.    1.    1.    1.    1.    1.    1.    1.]\n",
      " [   0.    0.    0.    0.    1.    0.    0.    0.    0.]]\n"
     ]
    },
    {
     "name": "stderr",
     "output_type": "stream",
     "text": [
      "  0%|▏                                                                   | 101/40000 [00:41<4:32:55,  2.44it/s]"
     ]
    },
    {
     "name": "stdout",
     "output_type": "stream",
     "text": [
      "# of episode :100, avg score : -0.5\n",
      "[[   0.    0.    0.    0. -100.    0.    0.    0. -100.]\n",
      " [   1.    1.    1.    1.    1.    1.    1.    1.    1.]\n",
      " [   1.    1.    1.    1.    1.    1.    1.    1.    0.]\n",
      " [   1.    1.    0.    1.    0.    1.    0.    1.    0.]\n",
      " [   0.   -5.    0.    1.    0.    1.    0.    1.    0.]\n",
      " [   0.    1.    0.    1.    0.    1.    0.    1. -100.]\n",
      " [   1.    1.    0.    1.    0.    1.    0.    1.    1.]\n",
      " [   1.    1.    1.    1.    1.    1.    1.    1.    1.]\n",
      " [   1.    1.    1.    1.    1.    1.    1.    1.    1.]\n",
      " [   0.    0.    0.    0.    1.    0.    0.    0.    0.]]\n"
     ]
    },
    {
     "name": "stderr",
     "output_type": "stream",
     "text": [
      "  0%|▏                                                                   | 121/40000 [00:49<4:34:19,  2.42it/s]"
     ]
    },
    {
     "name": "stdout",
     "output_type": "stream",
     "text": [
      "# of episode :120, avg score : -0.8\n",
      "[[   0.    0.    0.    0.    0.    0.    0.    0.    0.]\n",
      " [   1.    1.    1.   -5.    1.    1.    1.    1.    1.]\n",
      " [   0.    1.    1.    1.    1.    1.    1.    1.    0.]\n",
      " [   0.    1.    0.    1.    0.    1.    0.    1.    0.]\n",
      " [   0.    1.    0.    1.    0.    1.    0.    1. -100.]\n",
      " [   0.    1.    0.    1.    0.    1.    0.    1.    0.]\n",
      " [   1.    1.    0.    1.    0.    1.    0.    1.    1.]\n",
      " [   1.    1.    1.    1.    1.    1.    1.    1.    1.]\n",
      " [   1.    1.    1.    1.    1.    1.    1.    1.    1.]\n",
      " [   0.    0.    0.    0.    1.    0.    0.    0.    0.]]\n"
     ]
    },
    {
     "name": "stderr",
     "output_type": "stream",
     "text": [
      "  0%|▏                                                                   | 141/40000 [00:58<4:32:47,  2.44it/s]"
     ]
    },
    {
     "name": "stdout",
     "output_type": "stream",
     "text": [
      "# of episode :140, avg score : -0.5\n",
      "[[-100. -100. -100.    0.    0.    0.    0.    0. -100.]\n",
      " [   1.    1.    1.    1.    1.    1.    1.    1.    1.]\n",
      " [-100.    1.    1.    1.    1.    1.   -5.    1.    0.]\n",
      " [   0.    1.    0.    1.    0.    1.    0.    1.    0.]\n",
      " [-100.    1.    0.    1.    0.    1.    0.    1.    0.]\n",
      " [   0.    1.    0.    1.    0.    1.    0.    1.    1.]\n",
      " [   1.    1.    0.    1.    0.    1.    0.    1.    1.]\n",
      " [   1.    1.    1.    1.    1.    1.    1.    1.    1.]\n",
      " [   1.    1.    1.    1.    1.    1.    1.    1.    1.]\n",
      " [   0.    0.    0.    0.    1.    0.    0.    0.    0.]]\n"
     ]
    },
    {
     "name": "stderr",
     "output_type": "stream",
     "text": [
      "  0%|▎                                                                   | 161/40000 [01:06<4:40:18,  2.37it/s]"
     ]
    },
    {
     "name": "stdout",
     "output_type": "stream",
     "text": [
      "# of episode :160, avg score : -0.8\n",
      "[[-100.    0. -100.    0.    0.    0.    0.    0. -100.]\n",
      " [   1.    1.    1.    1.    1.    1.    1.    1.    1.]\n",
      " [   1.    1.    1.    1.    1.    1.    1.    1.    0.]\n",
      " [-100.    1.    0.    1.    0.    1.    0.    1. -100.]\n",
      " [   0.    1.    0.    1.    0.    1.    0.    1.    0.]\n",
      " [   0.    1.    0.    1.    0.    1.    0.    1.    0.]\n",
      " [   1.    1.    0.    1.    0.    1.    0.    1.    1.]\n",
      " [   1.   -5.    1.    1.    1.    1.    1.    1.    1.]\n",
      " [   1.    1.    1.    1.    1.    1.    1.    1.    1.]\n",
      " [   0.    0.    0.    0.    1.    0.    0.    0.    0.]]\n"
     ]
    },
    {
     "name": "stderr",
     "output_type": "stream",
     "text": [
      "  0%|▎                                                                   | 181/40000 [01:12<3:26:49,  3.21it/s]"
     ]
    },
    {
     "name": "stdout",
     "output_type": "stream",
     "text": [
      "# of episode :180, avg score : -0.8\n",
      "[[   0.    0.    0.    0. -100.    0.    0.    0.    0.]\n",
      " [   1.    1.    1.    1.    1.    1.    1.    1.    1.]\n",
      " [   0.    1.    1.    1.    1.    1.    1.    1.    0.]\n",
      " [   0.    1.    0.    1.    0.    1.    0.    1. -100.]\n",
      " [   0.    1.    0.    1.    0.    1.    0.    1.    0.]\n",
      " [   0.    1.    0.    1.    0.    1.    0.    1. -100.]\n",
      " [   1.    1.    0.    1.    0.    1.    0.    1.    1.]\n",
      " [  -5.    1.    1.    1.    1.    1.    1.    1.    1.]\n",
      " [   1.    1.    1.    1.    1.    1.    1.    1.    1.]\n",
      " [   0.    0.    0.    0.    1.    0.    0.    0.    0.]]\n"
     ]
    },
    {
     "name": "stderr",
     "output_type": "stream",
     "text": [
      "  1%|▎                                                                   | 201/40000 [01:19<3:29:03,  3.17it/s]"
     ]
    },
    {
     "name": "stdout",
     "output_type": "stream",
     "text": [
      "# of episode :200, avg score : -0.5\n",
      "[[   0. -100.    0. -100. -100.    0. -100.    0.    0.]\n",
      " [   1.    1.    1.    1.    1.    1.    1.    1.    1.]\n",
      " [   0.   -5.    1.    1.    1.    1.    1.    1. -100.]\n",
      " [   0.    1.    0.    1.    0.    1.    0.    1.    0.]\n",
      " [   0.    1.    0.    1.    0.    1.    0.    1.    0.]\n",
      " [   1.    1.    0.    1.    0.    1.    0.    1.    0.]\n",
      " [   1.    1.    0.    1.    0.    1.    0.    1.    1.]\n",
      " [   1.    1.    1.    1.    1.    1.    1.    1.    1.]\n",
      " [   1.    1.    1.    1.    1.    1.    1.    1.    1.]\n",
      " [   0.    0.    0.    0.    1.    0.    0.    0.    0.]]\n"
     ]
    },
    {
     "name": "stderr",
     "output_type": "stream",
     "text": [
      "  1%|▍                                                                   | 221/40000 [01:25<3:29:24,  3.17it/s]"
     ]
    },
    {
     "name": "stdout",
     "output_type": "stream",
     "text": [
      "# of episode :220, avg score : -0.7\n",
      "[[   0. -100. -100.    0.    0.    0. -100.    0.    0.]\n",
      " [   1.    1.    1.    1.    1.    1.    1.    1.    1.]\n",
      " [-100.    1.    1.    1.    1.    1.    1.    1.    0.]\n",
      " [   0.    1.    0.    1.    0.    1.    0.    1.    0.]\n",
      " [   0.    1.    0.   -5.    0.    1.    0.    1. -100.]\n",
      " [-100.    1.    0.    1.    0.    1.    0.    1.    0.]\n",
      " [   1.    1.    0.    1.    0.    1.    0.    1.    1.]\n",
      " [   1.    1.    1.    1.    1.    1.    1.    1.    1.]\n",
      " [   1.    1.    1.    1.    1.    1.    1.    1.    1.]\n",
      " [   0.    0.    0.    0.    1.    0.    0.    0.    0.]]\n"
     ]
    },
    {
     "name": "stderr",
     "output_type": "stream",
     "text": [
      "  1%|▍                                                                   | 241/40000 [01:31<3:33:28,  3.10it/s]"
     ]
    },
    {
     "name": "stdout",
     "output_type": "stream",
     "text": [
      "# of episode :240, avg score : -0.8\n",
      "[[-100.    0.    0.    0.    0.    0.    0.    0.    1.]\n",
      " [   1.    1.    1.    1.    1.    1.    1.    1.    1.]\n",
      " [   0.    1.    1.    1.    1.    1.    1.    1.    0.]\n",
      " [   0.    1.    0.    1.    0.    1.    0.   -5.    0.]\n",
      " [   0.    1.    0.    1.    0.    1.    0.    1.    0.]\n",
      " [   0.    1.    0.    1.    0.    1.    0.    1.    0.]\n",
      " [   1.    1.    0.    1.    0.    1.    0.    1.    1.]\n",
      " [   1.    1.    1.    1.    1.    1.    1.    1.    1.]\n",
      " [   1.    1.    1.    1.    1.    1.    1.    1.    1.]\n",
      " [   0.    0.    0.    0.    1.    0.    0.    0.    0.]]\n"
     ]
    },
    {
     "name": "stderr",
     "output_type": "stream",
     "text": [
      "  1%|▍                                                                   | 261/40000 [01:38<4:15:34,  2.59it/s]"
     ]
    },
    {
     "name": "stdout",
     "output_type": "stream",
     "text": [
      "# of episode :260, avg score : -0.7\n",
      "[[   0.    0.    0.    0.    0.    0.    0.    0. -100.]\n",
      " [   1.    1.    1.    1.    1.    1.    1.    1.    1.]\n",
      " [   0.    1.    1.    1.    1.    1.    1.    1.    0.]\n",
      " [   0.    1.    0.    1.    0.    1.    0.    1.    0.]\n",
      " [   0.    1.    0.    1.    0.    1.    0.    1.    0.]\n",
      " [   0.    1.    0.    1.    0.    1.    0.    1.    1.]\n",
      " [   1.    1.    0.    1.    0.    1.    0.    1.   -5.]\n",
      " [   1.    1.    1.    1.    1.    1.    1.    1.    1.]\n",
      " [   1.    1.    1.    1.    1.    1.    1.    1.    1.]\n",
      " [   0.    0.    0.    0.    1.    0.    0.    0.    0.]]\n"
     ]
    },
    {
     "name": "stderr",
     "output_type": "stream",
     "text": [
      "  1%|▍                                                                   | 281/40000 [01:45<3:28:31,  3.17it/s]"
     ]
    },
    {
     "name": "stdout",
     "output_type": "stream",
     "text": [
      "# of episode :280, avg score : -0.8\n",
      "[[   0. -100. -100.    0.    0.    1.    0.    0.    1.]\n",
      " [   1.    1.    1.    1.    1.    1.    1.    1.    1.]\n",
      " [-100.    1.    1.    1.    1.    1.    1.    1.    1.]\n",
      " [   0.    1.    0.    1.    0.    1.    0.    1.    0.]\n",
      " [   0.    1.    0.    1.    0.    1.    0.    1.    0.]\n",
      " [   0.    1.    0.    1.    0.    1.    0.    1.    0.]\n",
      " [   1.    1.    0.    1.    0.    1.    0.    1.    1.]\n",
      " [   1.    1.    1.    1.    1.    1.    1.    1.    1.]\n",
      " [   1.    1.    1.   -5.    1.    1.    1.    1.    1.]\n",
      " [   0.    0.    0.    0.    1.    0.    0.    0.    0.]]\n"
     ]
    },
    {
     "name": "stderr",
     "output_type": "stream",
     "text": [
      "  1%|▌                                                                   | 301/40000 [01:51<3:48:43,  2.89it/s]"
     ]
    },
    {
     "name": "stdout",
     "output_type": "stream",
     "text": [
      "# of episode :300, avg score : -0.7\n",
      "[[-100.    0. -100.    0.    0.    0.    0.    0. -100.]\n",
      " [   1.    1.    1.    1.    1.    1.    1.    1.    1.]\n",
      " [   0.    1.    1.    1.    1.    1.    1.    1.    0.]\n",
      " [-100.    1.    0.    1.    0.    1.    0.    1. -100.]\n",
      " [-100.    1.    0.    1.    0.    1.    0.    1. -100.]\n",
      " [   0.    1.    0.    1.    0.    1.    0.   -5.    0.]\n",
      " [   1.    1.    0.    1.    0.    1.    0.    1.    1.]\n",
      " [   1.    1.    1.    1.    1.    1.    1.    1.    1.]\n",
      " [   1.    1.    1.    1.    1.    1.    1.    1.    1.]\n",
      " [   0.    0.    0.    0.    1.    0.    0.    0.    0.]]\n"
     ]
    },
    {
     "name": "stderr",
     "output_type": "stream",
     "text": [
      "  1%|▌                                                                   | 321/40000 [02:00<4:36:02,  2.40it/s]"
     ]
    },
    {
     "name": "stdout",
     "output_type": "stream",
     "text": [
      "# of episode :320, avg score : -0.7\n",
      "[[   0. -100.    0.    0. -100.    0.    0.    0.    0.]\n",
      " [   1.    1.    1.    1.    1.    1.    1.    1.    1.]\n",
      " [   0.    1.    1.    1.    1.    1.    1.    1.    0.]\n",
      " [   0.    1.    0.    1.    0.    1.    0.    1.    0.]\n",
      " [   0.    1.    0.    1.    0.    1.    0.    1.    0.]\n",
      " [-100.    1.    0.    1.    0.    1.    0.    1.    0.]\n",
      " [   1.    1.    0.    1.    0.    1.    0.   -5.    1.]\n",
      " [   1.    1.    1.    1.    1.    1.    1.    1.    1.]\n",
      " [   1.    1.    1.    1.    1.    1.    1.    1.    1.]\n",
      " [   0.    0.    0.    0.    1.    0.    0.    0.    0.]]\n"
     ]
    },
    {
     "name": "stderr",
     "output_type": "stream",
     "text": [
      "  1%|▌                                                                   | 341/40000 [02:08<4:45:01,  2.32it/s]"
     ]
    },
    {
     "name": "stdout",
     "output_type": "stream",
     "text": [
      "# of episode :340, avg score : -0.5\n",
      "[[   0.    0.    1.    1.    0.    0. -100.    0.    0.]\n",
      " [   1.    1.    1.    1.    1.    1.    1.    1.    1.]\n",
      " [   0.    1.    1.    1.    1.    1.    1.    1.    0.]\n",
      " [   0.    1.    0.   -5.    0.    1.    0.    1. -100.]\n",
      " [   0.    1.    0.    1.    0.    1.    0.    1.    0.]\n",
      " [   1.    1.    0.    1.    0.    1.    0.    1. -100.]\n",
      " [   1.    1.    0.    1.    0.    1.    0.    1.    1.]\n",
      " [   1.    1.    1.    1.    1.    1.    1.    1.    1.]\n",
      " [   1.    1.    1.    1.    1.    1.    1.    1.    1.]\n",
      " [   0.    0.    0.    0.    1.    0.    0.    0.    0.]]\n"
     ]
    },
    {
     "name": "stderr",
     "output_type": "stream",
     "text": [
      "  1%|▌                                                                   | 361/40000 [02:16<4:33:59,  2.41it/s]"
     ]
    },
    {
     "name": "stdout",
     "output_type": "stream",
     "text": [
      "# of episode :360, avg score : -0.7\n",
      "[[   0.    0.    1.    0.    0.    0.    1.    0.    1.]\n",
      " [   1.    1.    1.    1.    1.    1.    1.    1.    1.]\n",
      " [   1.    1.    1.    1.    1.    1.    1.    1.    0.]\n",
      " [   0.    1.    0.    1.    0.    1.    0.    1.    0.]\n",
      " [-100.    1.    0.    1.    0.    1.    0.    1.    0.]\n",
      " [   0.    1.    0.    1.    0.    1.    0.    1.    0.]\n",
      " [   1.    1.    0.    1.    0.    1.    0.    1.    1.]\n",
      " [   1.    1.    1.    1.    1.    1.    1.    1.    1.]\n",
      " [   1.    1.    1.    1.    1.    1.    1.   -5.    1.]\n",
      " [   0.    0.    0.    0.    1.    0.    0.    0.    0.]]\n"
     ]
    },
    {
     "name": "stderr",
     "output_type": "stream",
     "text": [
      "  1%|▋                                                                   | 381/40000 [02:25<4:35:53,  2.39it/s]"
     ]
    },
    {
     "name": "stdout",
     "output_type": "stream",
     "text": [
      "# of episode :380, avg score : -0.8\n",
      "[[   0.    0.    0.    0.    1.    0.    1.    1.    0.]\n",
      " [   1.    1.    1.    1.    1.    1.    1.    1.    1.]\n",
      " [   0.    1.   -5.    1.    1.    1.    1.    1.    0.]\n",
      " [   0.    1.    0.    1.    0.    1.    0.    1.    0.]\n",
      " [-100.    1.    0.    1.    0.    1.    0.    1.    0.]\n",
      " [   0.    1.    0.    1.    0.    1.    0.    1. -100.]\n",
      " [   1.    1.    0.    1.    0.    1.    0.    1.    1.]\n",
      " [   1.    1.    1.    1.    1.    1.    1.    1.    1.]\n",
      " [   1.    1.    1.    1.    1.    1.    1.    1.    1.]\n",
      " [   0.    0.    0.    0.    1.    0.    0.    0.    0.]]\n"
     ]
    },
    {
     "name": "stderr",
     "output_type": "stream",
     "text": [
      "  1%|▋                                                                   | 401/40000 [02:33<4:34:49,  2.40it/s]"
     ]
    },
    {
     "name": "stdout",
     "output_type": "stream",
     "text": [
      "# of episode :400, avg score : -0.6\n",
      "[[   0.    0.    0.    0.    0.    0.    0.    0.    0.]\n",
      " [   1.    1.    1.    1.    1.    1.    1.    1.    1.]\n",
      " [   1.    1.    1.    1.    1.    1.    1.    1.    0.]\n",
      " [   1.    1.    0.    1.    0.    1.    0.    1.    0.]\n",
      " [-100.    1.    0.    1.    0.    1.    0.    1.    0.]\n",
      " [   0.   -5.    0.    1.    0.    1.    0.    1.    0.]\n",
      " [   1.    1.    0.    1.    0.    1.    0.    1.    1.]\n",
      " [   1.    1.    1.    1.    1.    1.    1.    1.    1.]\n",
      " [   1.    1.    1.    1.    1.    1.    1.    1.    1.]\n",
      " [   0.    0.    0.    0.    1.    0.    0.    0.    0.]]\n"
     ]
    },
    {
     "name": "stderr",
     "output_type": "stream",
     "text": [
      "  1%|▋                                                                   | 421/40000 [02:41<4:28:41,  2.46it/s]"
     ]
    },
    {
     "name": "stdout",
     "output_type": "stream",
     "text": [
      "# of episode :420, avg score : -0.5\n",
      "[[-100.    0.    0.    0.    0.    0.    0.    0.    0.]\n",
      " [   1.    1.    1.    1.    1.    1.    1.    1.    1.]\n",
      " [   0.    1.    1.    1.   -5.    1.    1.    1.    0.]\n",
      " [   0.    1.    0.    1.    0.    1.    0.    1. -100.]\n",
      " [   0.    1.    0.    1.    0.    1.    0.    1.    0.]\n",
      " [   0.    1.    0.    1.    0.    1.    0.    1.    0.]\n",
      " [   1.    1.    0.    1.    0.    1.    0.    1.    1.]\n",
      " [   1.    1.    1.    1.    1.    1.    1.    1.    1.]\n",
      " [   1.    1.    1.    1.    1.    1.    1.    1.    1.]\n",
      " [   0.    0.    0.    0.    1.    0.    0.    0.    0.]]\n"
     ]
    },
    {
     "name": "stderr",
     "output_type": "stream",
     "text": [
      "  1%|▋                                                                   | 441/40000 [02:49<4:38:03,  2.37it/s]"
     ]
    },
    {
     "name": "stdout",
     "output_type": "stream",
     "text": [
      "# of episode :440, avg score : -0.6\n",
      "[[-100.    0.    0.    0.    0. -100.    0.    0. -100.]\n",
      " [   1.    1.    1.    1.    1.    1.    1.    1.    1.]\n",
      " [   0.    1.    1.    1.    1.    1.    1.    1.    0.]\n",
      " [   0.    1.    0.    1.    0.    1.    0.    1.    0.]\n",
      " [   0.    1.    0.    1.    0.    1.    0.    1.    0.]\n",
      " [   0.    1.    0.    1.    0.    1.    0.    1.    0.]\n",
      " [   1.    1.    0.    1.    0.    1.    0.    1.    1.]\n",
      " [   1.    1.    1.    1.    1.    1.    1.    1.    1.]\n",
      " [  -5.    1.    1.    1.    1.    1.    1.    1.    1.]\n",
      " [   0.    0.    0.    0.    1.    0.    0.    0.    0.]]\n"
     ]
    },
    {
     "name": "stderr",
     "output_type": "stream",
     "text": [
      "  1%|▊                                                                   | 461/40000 [02:58<4:35:25,  2.39it/s]"
     ]
    },
    {
     "name": "stdout",
     "output_type": "stream",
     "text": [
      "# of episode :460, avg score : -0.6\n",
      "[[   0. -100.    0.    0.    0.    0.    0.    0.    0.]\n",
      " [   1.    1.    1.    1.    1.    1.    1.    1.    1.]\n",
      " [   0.    1.    1.    1.    1.    1.    1.    1.    0.]\n",
      " [   0.    1.    0.    1.    0.    1.    0.    1. -100.]\n",
      " [   0.    1.    0.    1.    0.    1.    0.    1.    0.]\n",
      " [   1.   -5.    0.    1.    0.    1.    0.    1.    0.]\n",
      " [   1.    1.    0.    1.    0.    1.    0.    1.    1.]\n",
      " [   1.    1.    1.    1.    1.    1.    1.    1.    1.]\n",
      " [   1.    1.    1.    1.    1.    1.    1.    1.    1.]\n",
      " [   0.    0.    0.    0.    1.    0.    0.    0.    0.]]\n"
     ]
    },
    {
     "name": "stderr",
     "output_type": "stream",
     "text": [
      "  1%|▊                                                                   | 463/40000 [03:08<4:28:08,  2.46it/s]\n"
     ]
    },
    {
     "ename": "IndexError",
     "evalue": "list index out of range",
     "output_type": "error",
     "traceback": [
      "\u001b[0;31m---------------------------------------------------------------------------\u001b[0m",
      "\u001b[0;31mIndexError\u001b[0m                                Traceback (most recent call last)",
      "\u001b[0;32m/tmp/ipykernel_2393/2101471345.py\u001b[0m in \u001b[0;36m<module>\u001b[0;34m\u001b[0m\n\u001b[1;32m     59\u001b[0m \u001b[0;34m\u001b[0m\u001b[0m\n\u001b[1;32m     60\u001b[0m \u001b[0;32mif\u001b[0m \u001b[0m__name__\u001b[0m \u001b[0;34m==\u001b[0m \u001b[0;34m'__main__'\u001b[0m\u001b[0;34m:\u001b[0m\u001b[0;34m\u001b[0m\u001b[0;34m\u001b[0m\u001b[0m\n\u001b[0;32m---> 61\u001b[0;31m     \u001b[0mmain\u001b[0m\u001b[0;34m(\u001b[0m\u001b[0;34m)\u001b[0m\u001b[0;34m\u001b[0m\u001b[0;34m\u001b[0m\u001b[0m\n\u001b[0m",
      "\u001b[0;32m/tmp/ipykernel_2393/2101471345.py\u001b[0m in \u001b[0;36mmain\u001b[0;34m()\u001b[0m\n\u001b[1;32m     33\u001b[0m \u001b[0;34m\u001b[0m\u001b[0m\n\u001b[1;32m     34\u001b[0m \u001b[0;34m\u001b[0m\u001b[0m\n\u001b[0;32m---> 35\u001b[0;31m                 \u001b[0ms_prime\u001b[0m\u001b[0;34m,\u001b[0m \u001b[0mr\u001b[0m\u001b[0;34m,\u001b[0m \u001b[0mcumul\u001b[0m\u001b[0;34m,\u001b[0m \u001b[0mdone\u001b[0m\u001b[0;34m,\u001b[0m \u001b[0mgoal_reward\u001b[0m \u001b[0;34m=\u001b[0m \u001b[0menv\u001b[0m\u001b[0;34m.\u001b[0m\u001b[0mstep\u001b[0m\u001b[0;34m(\u001b[0m\u001b[0ma\u001b[0m\u001b[0;34m)\u001b[0m\u001b[0;34m\u001b[0m\u001b[0;34m\u001b[0m\u001b[0m\n\u001b[0m\u001b[1;32m     36\u001b[0m \u001b[0;34m\u001b[0m\u001b[0m\n\u001b[1;32m     37\u001b[0m                 \u001b[0mview\u001b[0m \u001b[0;34m=\u001b[0m \u001b[0ms_prime\u001b[0m\u001b[0;34m\u001b[0m\u001b[0;34m\u001b[0m\u001b[0m\n",
      "\u001b[0;32m/tmp/ipykernel_2393/2440277272.py\u001b[0m in \u001b[0;36mstep\u001b[0;34m(self, action)\u001b[0m\n\u001b[1;32m    225\u001b[0m \u001b[0;31m#                 self.clear_item = True\u001b[0m\u001b[0;34m\u001b[0m\u001b[0;34m\u001b[0m\u001b[0;34m\u001b[0m\u001b[0m\n\u001b[1;32m    226\u001b[0m \u001b[0;34m\u001b[0m\u001b[0m\n\u001b[0;32m--> 227\u001b[0;31m                 \u001b[0mself\u001b[0m\u001b[0;34m.\u001b[0m\u001b[0mlocal_target\u001b[0m\u001b[0;34m.\u001b[0m\u001b[0mremove\u001b[0m\u001b[0;34m(\u001b[0m\u001b[0mself\u001b[0m\u001b[0;34m.\u001b[0m\u001b[0mlocal_target\u001b[0m\u001b[0;34m[\u001b[0m\u001b[0;36m0\u001b[0m\u001b[0;34m]\u001b[0m\u001b[0;34m)\u001b[0m\u001b[0;34m\u001b[0m\u001b[0;34m\u001b[0m\u001b[0m\n\u001b[0m\u001b[1;32m    228\u001b[0m \u001b[0;34m\u001b[0m\u001b[0m\n\u001b[1;32m    229\u001b[0m \u001b[0;31m#                 if self.local_target:\u001b[0m\u001b[0;34m\u001b[0m\u001b[0;34m\u001b[0m\u001b[0;34m\u001b[0m\u001b[0m\n",
      "\u001b[0;31mIndexError\u001b[0m: list index out of range"
     ]
    }
   ],
   "source": [
    "def main():  \n",
    "    env = Simulator()\n",
    "    model = ActorCritic()\n",
    "    model = model.to('cuda')\n",
    "    files = pd.read_csv(\"./data/factory_order_train.csv\")\n",
    "    print_interval = 20\n",
    "    \n",
    "    for epi in tqdm(range(40000)):\n",
    "        time.sleep(0.1)\n",
    "        done = False\n",
    "        s = env.reset(epi)\n",
    "#         items = list(files.iloc[epi%40000])[0]\n",
    "#         s = env.reset(epi)\n",
    "        score = 0.0\n",
    "        s = np.asarray(s, dtype=np.float32)\n",
    "#         a_step= 0\n",
    "        first = True\n",
    "\n",
    "        #for i in range(50):\n",
    "        while not done:\n",
    "            for t in range(n_rollout): # n_rollout을 통해 for loop 진행 후 학습 진행\n",
    "                # 어디로 갈지 확률 예측 부분\n",
    "                prob = model.pi(torch.from_numpy(s).float())\n",
    "                m = Categorical(prob)\n",
    "                a = m.sample().item()\n",
    "\n",
    "                if first:\n",
    "                    a = 0\n",
    "                    first = False\n",
    "                    \n",
    "\n",
    "                s_prime, r, cumul, done, goal_reward = env.step(a)\n",
    "                \n",
    "                view = s_prime\n",
    "                \n",
    "                s_prime = np.asarray(s_prime, dtype=np.float32)\n",
    "                \n",
    "                model.put_data((s,a,r,s_prime,done))\n",
    "                \n",
    "                s = s_prime\n",
    "                score += r\n",
    "                if done:\n",
    "                    break\n",
    "#                 a_step +=1\n",
    "\n",
    "\n",
    "            if done:\n",
    "                break                      \n",
    "\n",
    "#             if a_step == 1000:\n",
    "#                 break\n",
    "            model.train_net() # 학습 진행 코드\n",
    "          \n",
    "        if epi%print_interval==0 and epi!=0:\n",
    "            print(\"# of episode :{}, avg score : {:.1f}\".format(epi, score/print_interval))\n",
    "            print(view)\n",
    "            score = 0.0\n",
    "\n",
    "\n",
    "if __name__ == '__main__':\n",
    "    main()"
   ]
  },
  {
   "cell_type": "code",
   "execution_count": null,
   "id": "1116dfad",
   "metadata": {},
   "outputs": [],
   "source": []
  }
 ],
 "metadata": {
  "kernelspec": {
   "display_name": "Python 3 (ipykernel)",
   "language": "python",
   "name": "python3"
  },
  "language_info": {
   "codemirror_mode": {
    "name": "ipython",
    "version": 3
   },
   "file_extension": ".py",
   "mimetype": "text/x-python",
   "name": "python",
   "nbconvert_exporter": "python",
   "pygments_lexer": "ipython3",
   "version": "3.7.13"
  }
 },
 "nbformat": 4,
 "nbformat_minor": 5
}
